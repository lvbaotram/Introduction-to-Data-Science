{
  "cells": [
    {
      "cell_type": "code",
      "execution_count": 1,
      "metadata": {
        "id": "IPM9BKLFW6pj"
      },
      "outputs": [
        {
          "data": {
            "text/plain": [
              "'\\nIntroduction to Data Science\\nProgramming Exercise: 01\\nName: Le Vo Bao Tram\\nStudent ID: 21280052\\n'"
            ]
          },
          "execution_count": 1,
          "metadata": {},
          "output_type": "execute_result"
        }
      ],
      "source": [
        "\"\"\"\n",
        "Introduction to Data Science\n",
        "Programming Exercise: 01\n",
        "Name: Le Vo Bao Tram\n",
        "Student ID: 21280052\n",
        "\"\"\""
      ]
    },
    {
      "cell_type": "markdown",
      "metadata": {
        "id": "q23vSTg18BZM"
      },
      "source": [
        "# Introduction to Data Science - 21KDL1\n",
        "## PE01: Python fundamentals:\n"
      ]
    },
    {
      "cell_type": "markdown",
      "metadata": {
        "id": "T9jEKhg1JbaJ"
      },
      "source": [
        "## Preliminaries\n",
        "Taking user input from the keyboard in Python:"
      ]
    },
    {
      "cell_type": "code",
      "execution_count": 4,
      "metadata": {
        "colab": {
          "base_uri": "https://localhost:8080/"
        },
        "id": "eL84CH7_KPrU",
        "outputId": "95868a05-48a8-4491-8c80-8f793fbae243"
      },
      "outputs": [],
      "source": [
        "# Execute this cell and then type your name inside the box\n",
        "name = input(\"Please enter your name: \")\n",
        "print(name)"
      ]
    },
    {
      "cell_type": "markdown",
      "metadata": {
        "id": "UqKzvlN2LzZ0"
      },
      "source": [
        "*Note* that everything from the user's keyboard input will be considered as a string. If you want to input an integer (same as float, etc), let's use `int()` to convert it into a correspoinding data type."
      ]
    },
    {
      "cell_type": "markdown",
      "metadata": {
        "id": "Hv6nWa66KtDM"
      },
      "source": [
        "## Exercises"
      ]
    },
    {
      "cell_type": "markdown",
      "metadata": {
        "id": "9mtZxwGw8ZHo"
      },
      "source": [
        "### Variable Exercises:\n",
        "**Q1:** Write a program that asks the user for their name and age, then prints out a message that says \"Hello `[name]`, you are `[age]` years old!\"\n",
        "Write a program that takes a user input number and prints out whether the number is odd or even."
      ]
    },
    {
      "cell_type": "code",
      "execution_count": 4,
      "metadata": {
        "id": "PkAEFuJQtJeS"
      },
      "outputs": [
        {
          "name": "stdout",
          "output_type": "stream",
          "text": [
            "Hello tram, you are 20 years old!\n"
          ]
        }
      ],
      "source": [
        "# Your code starts here\n",
        "...\n",
        "name = input(\"Please enter your name: \")\n",
        "age = input(\"Please enter your age: \")\n",
        "print(f\"Hello {name}, you are {age} years old!\")"
      ]
    },
    {
      "cell_type": "markdown",
      "metadata": {
        "id": "BpocBEVV9HBv"
      },
      "source": [
        "\n",
        "**Q2:** Write a program that takes a user input number and prints out whether the number is odd or even."
      ]
    },
    {
      "cell_type": "code",
      "execution_count": 6,
      "metadata": {
        "id": "DFVcRPpK9HVz"
      },
      "outputs": [
        {
          "name": "stdout",
          "output_type": "stream",
          "text": [
            "The number 11 is odd.\n"
          ]
        }
      ],
      "source": [
        "# Your code starts here\n",
        "# ...\n",
        "number = int(input(\"Please enter a number: \"))\n",
        "if (number % 2 == 0):\n",
        "    print(f\"The number {number} is even.\")\n",
        "else: print(f\"The number {number} is odd.\")"
      ]
    },
    {
      "cell_type": "markdown",
      "metadata": {
        "id": "yqvc5Ja49cSK"
      },
      "source": [
        "### Loop Exercises:\n",
        "**Q3:** Write a program that prints out the numbers from 1 to 10 using a for loop."
      ]
    },
    {
      "cell_type": "code",
      "execution_count": 5,
      "metadata": {
        "id": "kD-3iVGZ9k9q"
      },
      "outputs": [
        {
          "name": "stdout",
          "output_type": "stream",
          "text": [
            "1\n",
            "2\n",
            "3\n",
            "4\n",
            "5\n",
            "6\n",
            "7\n",
            "8\n",
            "9\n",
            "10\n"
          ]
        }
      ],
      "source": [
        "# Your code starts from here\n",
        "# ...\n",
        "for i in range(10):\n",
        "    print(i+1)"
      ]
    },
    {
      "cell_type": "markdown",
      "metadata": {
        "id": "Nmvi45ry9mah"
      },
      "source": [
        "**Q4:** Write a program that asks the user to input a number, then prints out all the even numbers between 0 and the user input number using a while loop."
      ]
    },
    {
      "cell_type": "code",
      "execution_count": 22,
      "metadata": {
        "id": "7eWg6Tb39q5k"
      },
      "outputs": [
        {
          "name": "stdout",
          "output_type": "stream",
          "text": [
            "0\n",
            "2\n",
            "4\n",
            "6\n",
            "8\n"
          ]
        }
      ],
      "source": [
        "# Your code starts from here\n",
        "...\n",
        "number = int(input(\"Please enter a number:\"))\n",
        "i = 0\n",
        "while i <= number:\n",
        "    if (i % 2 == 0):\n",
        "        print(i)\n",
        "    i = i+1"
      ]
    },
    {
      "cell_type": "markdown",
      "metadata": {
        "id": "SLkSRDHs_XvQ"
      },
      "source": [
        "### List Exercises:\n",
        "**Q5:** Write a program that takes the last 5 elements of a list `numbers`"
      ]
    },
    {
      "cell_type": "code",
      "execution_count": 17,
      "metadata": {
        "id": "x4A2CEal_sW8"
      },
      "outputs": [
        {
          "data": {
            "text/plain": [
              "[8, 9, -5, 11, 20]"
            ]
          },
          "execution_count": 17,
          "metadata": {},
          "output_type": "execute_result"
        }
      ],
      "source": [
        "numbers = [5, 1, 7, 7, 8, 10, -2, 6, 8, 9, -5, 11, 20]\n",
        "\n",
        "# Your code starts from here:\n",
        "# ...\n",
        "numbers[-5:]"
      ]
    },
    {
      "cell_type": "markdown",
      "metadata": {
        "id": "Jtj9oyRe-cjV"
      },
      "source": [
        "**Q6:** Write a program that takes a list of `numbers` from 1 to 10 and returns a new list containing only the even numbers. (Recommend to use list comprehension)"
      ]
    },
    {
      "cell_type": "code",
      "execution_count": 23,
      "metadata": {
        "id": "zgie8u2_-1BJ"
      },
      "outputs": [
        {
          "name": "stdout",
          "output_type": "stream",
          "text": [
            "[2, 4, 6, 8, 10]\n"
          ]
        }
      ],
      "source": [
        "numbers = list(range(1,11)) # your code is here\n",
        "even_numbers = [] # your code is here\n",
        "for i in numbers:\n",
        "    if i % 2 == 0:\n",
        "        even_numbers.append(i)\n",
        "print(even_numbers)\n"
      ]
    },
    {
      "cell_type": "markdown",
      "metadata": {
        "id": "cb0mKps4BnSW"
      },
      "source": [
        "### Dictionary Exercises:\n",
        "**Q7:** Write a program that takes a dictionary of names and ages and returns a new dictionary containing only the names of people who are over 18 years old."
      ]
    },
    {
      "cell_type": "code",
      "execution_count": 23,
      "metadata": {
        "id": "uyRz6j1kB-5S"
      },
      "outputs": [
        {
          "name": "stdout",
          "output_type": "stream",
          "text": [
            "John 19\n",
            "James 30\n",
            "Lisa 19\n",
            "Jennie 20\n"
          ]
        }
      ],
      "source": [
        "name_to_age = {'John': 19, \n",
        "                'Tom': 15, \n",
        "                'James': 30, \n",
        "                'Danny': 18, \n",
        "                'Lisa': 19, \n",
        "                'Rose': 17, \n",
        "                'Jisoo': 16, \n",
        "                'Jennie': 20}\n",
        "\n",
        "# Your code starts from here\n",
        "# ...\n",
        "for key, value in name_to_age.items():\n",
        "    if value > 18:\n",
        "        print(key, value)"
      ]
    },
    {
      "cell_type": "markdown",
      "metadata": {
        "id": "o4nZs67W9rj6"
      },
      "source": [
        "### Function Exercises:\n",
        "**Q8:** Write a function `calc_sum()` that takes a list of numbers `nums` as input and returns the sum of the numbers.\n"
      ]
    },
    {
      "cell_type": "code",
      "execution_count": 9,
      "metadata": {
        "id": "qYELBffHJJrW"
      },
      "outputs": [
        {
          "name": "stdout",
          "output_type": "stream",
          "text": [
            "9\n"
          ]
        }
      ],
      "source": [
        "def calc_sum(nums):\n",
        "    pass\n",
        "    # Your code starts from here\n",
        "    # ...\n",
        "    sum = 0\n",
        "    for i in nums:\n",
        "        sum+=i\n",
        "    print(sum)\n",
        "    # Your code ends here\n",
        "\n",
        "nums = [5, 3, -2, 4, -1]\n",
        "calc_sum(nums)"
      ]
    },
    {
      "attachments": {},
      "cell_type": "markdown",
      "metadata": {
        "id": "dXXLPMzk-JNi"
      },
      "source": [
        "**Q9:** Write a function that takes a string as input and returns a dictionary containing the frequency of each character in the string."
      ]
    },
    {
      "cell_type": "code",
      "execution_count": 13,
      "metadata": {
        "id": "kqtL-abJ-L7I"
      },
      "outputs": [
        {
          "name": "stdout",
          "output_type": "stream",
          "text": [
            "{'a': 2, 'b': 1, 'c': 3, 'd': 1, 'e': 3, 'f': 2}\n"
          ]
        }
      ],
      "source": [
        "def count_char_freq(input_string):\n",
        "    pass\n",
        "    d1= dict()\n",
        "    # Your code starts from here\n",
        "    # ...\n",
        " \n",
        "    for i in input_string:\n",
        "        if i in d1:\n",
        "            d1[i] += 1\n",
        "        else:\n",
        "            d1[i] = 1\n",
        "    print(d1)\n",
        "    # Your code ends here\n",
        "\n",
        "string = \"abcaccdefeef\"\n",
        "char_freq = count_char_freq(string)"
      ]
    },
    {
      "cell_type": "markdown",
      "metadata": {
        "id": "DdNrfKtyFzyz"
      },
      "source": [
        "### Pandas Exercises:\n",
        "Let's use dataset available at https://www.kaggle.com/datasets/shivamb/netflix-shows to complete the following exercises:\n",
        "\n",
        "**Q10:** Load a CSV file `netflix_titles.csv` into a pandas DataFrame and print out the first 10 rows."
      ]
    },
    {
      "cell_type": "code",
      "execution_count": 2,
      "metadata": {
        "id": "jbXzWA0WMHex"
      },
      "outputs": [
        {
          "data": {
            "text/html": [
              "<div>\n",
              "<style scoped>\n",
              "    .dataframe tbody tr th:only-of-type {\n",
              "        vertical-align: middle;\n",
              "    }\n",
              "\n",
              "    .dataframe tbody tr th {\n",
              "        vertical-align: top;\n",
              "    }\n",
              "\n",
              "    .dataframe thead th {\n",
              "        text-align: right;\n",
              "    }\n",
              "</style>\n",
              "<table border=\"1\" class=\"dataframe\">\n",
              "  <thead>\n",
              "    <tr style=\"text-align: right;\">\n",
              "      <th></th>\n",
              "      <th>type</th>\n",
              "      <th>title</th>\n",
              "      <th>director</th>\n",
              "      <th>cast</th>\n",
              "      <th>country</th>\n",
              "      <th>date_added</th>\n",
              "      <th>release_year</th>\n",
              "      <th>rating</th>\n",
              "      <th>duration</th>\n",
              "      <th>listed_in</th>\n",
              "      <th>description</th>\n",
              "    </tr>\n",
              "    <tr>\n",
              "      <th>show_id</th>\n",
              "      <th></th>\n",
              "      <th></th>\n",
              "      <th></th>\n",
              "      <th></th>\n",
              "      <th></th>\n",
              "      <th></th>\n",
              "      <th></th>\n",
              "      <th></th>\n",
              "      <th></th>\n",
              "      <th></th>\n",
              "      <th></th>\n",
              "    </tr>\n",
              "  </thead>\n",
              "  <tbody>\n",
              "    <tr>\n",
              "      <th>s1</th>\n",
              "      <td>Movie</td>\n",
              "      <td>Dick Johnson Is Dead</td>\n",
              "      <td>Kirsten Johnson</td>\n",
              "      <td>NaN</td>\n",
              "      <td>United States</td>\n",
              "      <td>September 25, 2021</td>\n",
              "      <td>2020</td>\n",
              "      <td>PG-13</td>\n",
              "      <td>90 min</td>\n",
              "      <td>Documentaries</td>\n",
              "      <td>As her father nears the end of his life, filmm...</td>\n",
              "    </tr>\n",
              "    <tr>\n",
              "      <th>s2</th>\n",
              "      <td>TV Show</td>\n",
              "      <td>Blood &amp; Water</td>\n",
              "      <td>NaN</td>\n",
              "      <td>Ama Qamata, Khosi Ngema, Gail Mabalane, Thaban...</td>\n",
              "      <td>South Africa</td>\n",
              "      <td>September 24, 2021</td>\n",
              "      <td>2021</td>\n",
              "      <td>TV-MA</td>\n",
              "      <td>2 Seasons</td>\n",
              "      <td>International TV Shows, TV Dramas, TV Mysteries</td>\n",
              "      <td>After crossing paths at a party, a Cape Town t...</td>\n",
              "    </tr>\n",
              "    <tr>\n",
              "      <th>s3</th>\n",
              "      <td>TV Show</td>\n",
              "      <td>Ganglands</td>\n",
              "      <td>Julien Leclercq</td>\n",
              "      <td>Sami Bouajila, Tracy Gotoas, Samuel Jouy, Nabi...</td>\n",
              "      <td>NaN</td>\n",
              "      <td>September 24, 2021</td>\n",
              "      <td>2021</td>\n",
              "      <td>TV-MA</td>\n",
              "      <td>1 Season</td>\n",
              "      <td>Crime TV Shows, International TV Shows, TV Act...</td>\n",
              "      <td>To protect his family from a powerful drug lor...</td>\n",
              "    </tr>\n",
              "    <tr>\n",
              "      <th>s4</th>\n",
              "      <td>TV Show</td>\n",
              "      <td>Jailbirds New Orleans</td>\n",
              "      <td>NaN</td>\n",
              "      <td>NaN</td>\n",
              "      <td>NaN</td>\n",
              "      <td>September 24, 2021</td>\n",
              "      <td>2021</td>\n",
              "      <td>TV-MA</td>\n",
              "      <td>1 Season</td>\n",
              "      <td>Docuseries, Reality TV</td>\n",
              "      <td>Feuds, flirtations and toilet talk go down amo...</td>\n",
              "    </tr>\n",
              "    <tr>\n",
              "      <th>s5</th>\n",
              "      <td>TV Show</td>\n",
              "      <td>Kota Factory</td>\n",
              "      <td>NaN</td>\n",
              "      <td>Mayur More, Jitendra Kumar, Ranjan Raj, Alam K...</td>\n",
              "      <td>India</td>\n",
              "      <td>September 24, 2021</td>\n",
              "      <td>2021</td>\n",
              "      <td>TV-MA</td>\n",
              "      <td>2 Seasons</td>\n",
              "      <td>International TV Shows, Romantic TV Shows, TV ...</td>\n",
              "      <td>In a city of coaching centers known to train I...</td>\n",
              "    </tr>\n",
              "    <tr>\n",
              "      <th>s6</th>\n",
              "      <td>TV Show</td>\n",
              "      <td>Midnight Mass</td>\n",
              "      <td>Mike Flanagan</td>\n",
              "      <td>Kate Siegel, Zach Gilford, Hamish Linklater, H...</td>\n",
              "      <td>NaN</td>\n",
              "      <td>September 24, 2021</td>\n",
              "      <td>2021</td>\n",
              "      <td>TV-MA</td>\n",
              "      <td>1 Season</td>\n",
              "      <td>TV Dramas, TV Horror, TV Mysteries</td>\n",
              "      <td>The arrival of a charismatic young priest brin...</td>\n",
              "    </tr>\n",
              "    <tr>\n",
              "      <th>s7</th>\n",
              "      <td>Movie</td>\n",
              "      <td>My Little Pony: A New Generation</td>\n",
              "      <td>Robert Cullen, José Luis Ucha</td>\n",
              "      <td>Vanessa Hudgens, Kimiko Glenn, James Marsden, ...</td>\n",
              "      <td>NaN</td>\n",
              "      <td>September 24, 2021</td>\n",
              "      <td>2021</td>\n",
              "      <td>PG</td>\n",
              "      <td>91 min</td>\n",
              "      <td>Children &amp; Family Movies</td>\n",
              "      <td>Equestria's divided. But a bright-eyed hero be...</td>\n",
              "    </tr>\n",
              "    <tr>\n",
              "      <th>s8</th>\n",
              "      <td>Movie</td>\n",
              "      <td>Sankofa</td>\n",
              "      <td>Haile Gerima</td>\n",
              "      <td>Kofi Ghanaba, Oyafunmike Ogunlano, Alexandra D...</td>\n",
              "      <td>United States, Ghana, Burkina Faso, United Kin...</td>\n",
              "      <td>September 24, 2021</td>\n",
              "      <td>1993</td>\n",
              "      <td>TV-MA</td>\n",
              "      <td>125 min</td>\n",
              "      <td>Dramas, Independent Movies, International Movies</td>\n",
              "      <td>On a photo shoot in Ghana, an American model s...</td>\n",
              "    </tr>\n",
              "    <tr>\n",
              "      <th>s9</th>\n",
              "      <td>TV Show</td>\n",
              "      <td>The Great British Baking Show</td>\n",
              "      <td>Andy Devonshire</td>\n",
              "      <td>Mel Giedroyc, Sue Perkins, Mary Berry, Paul Ho...</td>\n",
              "      <td>United Kingdom</td>\n",
              "      <td>September 24, 2021</td>\n",
              "      <td>2021</td>\n",
              "      <td>TV-14</td>\n",
              "      <td>9 Seasons</td>\n",
              "      <td>British TV Shows, Reality TV</td>\n",
              "      <td>A talented batch of amateur bakers face off in...</td>\n",
              "    </tr>\n",
              "    <tr>\n",
              "      <th>s10</th>\n",
              "      <td>Movie</td>\n",
              "      <td>The Starling</td>\n",
              "      <td>Theodore Melfi</td>\n",
              "      <td>Melissa McCarthy, Chris O'Dowd, Kevin Kline, T...</td>\n",
              "      <td>United States</td>\n",
              "      <td>September 24, 2021</td>\n",
              "      <td>2021</td>\n",
              "      <td>PG-13</td>\n",
              "      <td>104 min</td>\n",
              "      <td>Comedies, Dramas</td>\n",
              "      <td>A woman adjusting to life after a loss contend...</td>\n",
              "    </tr>\n",
              "  </tbody>\n",
              "</table>\n",
              "</div>"
            ],
            "text/plain": [
              "            type                             title  \\\n",
              "show_id                                              \n",
              "s1         Movie              Dick Johnson Is Dead   \n",
              "s2       TV Show                     Blood & Water   \n",
              "s3       TV Show                         Ganglands   \n",
              "s4       TV Show             Jailbirds New Orleans   \n",
              "s5       TV Show                      Kota Factory   \n",
              "s6       TV Show                     Midnight Mass   \n",
              "s7         Movie  My Little Pony: A New Generation   \n",
              "s8         Movie                           Sankofa   \n",
              "s9       TV Show     The Great British Baking Show   \n",
              "s10        Movie                      The Starling   \n",
              "\n",
              "                              director  \\\n",
              "show_id                                  \n",
              "s1                     Kirsten Johnson   \n",
              "s2                                 NaN   \n",
              "s3                     Julien Leclercq   \n",
              "s4                                 NaN   \n",
              "s5                                 NaN   \n",
              "s6                       Mike Flanagan   \n",
              "s7       Robert Cullen, José Luis Ucha   \n",
              "s8                        Haile Gerima   \n",
              "s9                     Andy Devonshire   \n",
              "s10                     Theodore Melfi   \n",
              "\n",
              "                                                      cast  \\\n",
              "show_id                                                      \n",
              "s1                                                     NaN   \n",
              "s2       Ama Qamata, Khosi Ngema, Gail Mabalane, Thaban...   \n",
              "s3       Sami Bouajila, Tracy Gotoas, Samuel Jouy, Nabi...   \n",
              "s4                                                     NaN   \n",
              "s5       Mayur More, Jitendra Kumar, Ranjan Raj, Alam K...   \n",
              "s6       Kate Siegel, Zach Gilford, Hamish Linklater, H...   \n",
              "s7       Vanessa Hudgens, Kimiko Glenn, James Marsden, ...   \n",
              "s8       Kofi Ghanaba, Oyafunmike Ogunlano, Alexandra D...   \n",
              "s9       Mel Giedroyc, Sue Perkins, Mary Berry, Paul Ho...   \n",
              "s10      Melissa McCarthy, Chris O'Dowd, Kevin Kline, T...   \n",
              "\n",
              "                                                   country  \\\n",
              "show_id                                                      \n",
              "s1                                           United States   \n",
              "s2                                            South Africa   \n",
              "s3                                                     NaN   \n",
              "s4                                                     NaN   \n",
              "s5                                                   India   \n",
              "s6                                                     NaN   \n",
              "s7                                                     NaN   \n",
              "s8       United States, Ghana, Burkina Faso, United Kin...   \n",
              "s9                                          United Kingdom   \n",
              "s10                                          United States   \n",
              "\n",
              "                 date_added  release_year rating   duration  \\\n",
              "show_id                                                       \n",
              "s1       September 25, 2021          2020  PG-13     90 min   \n",
              "s2       September 24, 2021          2021  TV-MA  2 Seasons   \n",
              "s3       September 24, 2021          2021  TV-MA   1 Season   \n",
              "s4       September 24, 2021          2021  TV-MA   1 Season   \n",
              "s5       September 24, 2021          2021  TV-MA  2 Seasons   \n",
              "s6       September 24, 2021          2021  TV-MA   1 Season   \n",
              "s7       September 24, 2021          2021     PG     91 min   \n",
              "s8       September 24, 2021          1993  TV-MA    125 min   \n",
              "s9       September 24, 2021          2021  TV-14  9 Seasons   \n",
              "s10      September 24, 2021          2021  PG-13    104 min   \n",
              "\n",
              "                                                 listed_in  \\\n",
              "show_id                                                      \n",
              "s1                                           Documentaries   \n",
              "s2         International TV Shows, TV Dramas, TV Mysteries   \n",
              "s3       Crime TV Shows, International TV Shows, TV Act...   \n",
              "s4                                  Docuseries, Reality TV   \n",
              "s5       International TV Shows, Romantic TV Shows, TV ...   \n",
              "s6                      TV Dramas, TV Horror, TV Mysteries   \n",
              "s7                                Children & Family Movies   \n",
              "s8        Dramas, Independent Movies, International Movies   \n",
              "s9                            British TV Shows, Reality TV   \n",
              "s10                                       Comedies, Dramas   \n",
              "\n",
              "                                               description  \n",
              "show_id                                                     \n",
              "s1       As her father nears the end of his life, filmm...  \n",
              "s2       After crossing paths at a party, a Cape Town t...  \n",
              "s3       To protect his family from a powerful drug lor...  \n",
              "s4       Feuds, flirtations and toilet talk go down amo...  \n",
              "s5       In a city of coaching centers known to train I...  \n",
              "s6       The arrival of a charismatic young priest brin...  \n",
              "s7       Equestria's divided. But a bright-eyed hero be...  \n",
              "s8       On a photo shoot in Ghana, an American model s...  \n",
              "s9       A talented batch of amateur bakers face off in...  \n",
              "s10      A woman adjusting to life after a loss contend...  "
            ]
          },
          "execution_count": 2,
          "metadata": {},
          "output_type": "execute_result"
        }
      ],
      "source": [
        "# Your code starts from here\n",
        "# ...\n",
        "import pandas as pd\n",
        "netflix = pd.read_csv('netflix_titles.csv', index_col = 0)\n",
        "netflix.head(10)"
      ]
    },
    {
      "cell_type": "markdown",
      "metadata": {
        "id": "switI7YdMH_M"
      },
      "source": [
        "**Q11:** Show movies that were released between 2016 and 2020 (i.e, including 2016 and 2020). *Hint: you might be interested in `release_year`."
      ]
    },
    {
      "cell_type": "code",
      "execution_count": 20,
      "metadata": {
        "id": "CHprGj-fMIdO"
      },
      "outputs": [
        {
          "data": {
            "text/html": [
              "<div>\n",
              "<style scoped>\n",
              "    .dataframe tbody tr th:only-of-type {\n",
              "        vertical-align: middle;\n",
              "    }\n",
              "\n",
              "    .dataframe tbody tr th {\n",
              "        vertical-align: top;\n",
              "    }\n",
              "\n",
              "    .dataframe thead th {\n",
              "        text-align: right;\n",
              "    }\n",
              "</style>\n",
              "<table border=\"1\" class=\"dataframe\">\n",
              "  <thead>\n",
              "    <tr style=\"text-align: right;\">\n",
              "      <th></th>\n",
              "      <th>type</th>\n",
              "      <th>title</th>\n",
              "      <th>director</th>\n",
              "      <th>cast</th>\n",
              "      <th>country</th>\n",
              "      <th>date_added</th>\n",
              "      <th>release_year</th>\n",
              "      <th>rating</th>\n",
              "      <th>duration</th>\n",
              "      <th>listed_in</th>\n",
              "      <th>description</th>\n",
              "    </tr>\n",
              "    <tr>\n",
              "      <th>show_id</th>\n",
              "      <th></th>\n",
              "      <th></th>\n",
              "      <th></th>\n",
              "      <th></th>\n",
              "      <th></th>\n",
              "      <th></th>\n",
              "      <th></th>\n",
              "      <th></th>\n",
              "      <th></th>\n",
              "      <th></th>\n",
              "      <th></th>\n",
              "    </tr>\n",
              "  </thead>\n",
              "  <tbody>\n",
              "    <tr>\n",
              "      <th>s1</th>\n",
              "      <td>Movie</td>\n",
              "      <td>Dick Johnson Is Dead</td>\n",
              "      <td>Kirsten Johnson</td>\n",
              "      <td>NaN</td>\n",
              "      <td>United States</td>\n",
              "      <td>September 25, 2021</td>\n",
              "      <td>2020</td>\n",
              "      <td>PG-13</td>\n",
              "      <td>90 min</td>\n",
              "      <td>Documentaries</td>\n",
              "      <td>As her father nears the end of his life, filmm...</td>\n",
              "    </tr>\n",
              "    <tr>\n",
              "      <th>s17</th>\n",
              "      <td>Movie</td>\n",
              "      <td>Europe's Most Dangerous Man: Otto Skorzeny in ...</td>\n",
              "      <td>Pedro de Echave García, Pablo Azorín Williams</td>\n",
              "      <td>NaN</td>\n",
              "      <td>NaN</td>\n",
              "      <td>September 22, 2021</td>\n",
              "      <td>2020</td>\n",
              "      <td>TV-MA</td>\n",
              "      <td>67 min</td>\n",
              "      <td>Documentaries, International Movies</td>\n",
              "      <td>Declassified documents reveal the post-WWII li...</td>\n",
              "    </tr>\n",
              "    <tr>\n",
              "      <th>s18</th>\n",
              "      <td>TV Show</td>\n",
              "      <td>Falsa identidad</td>\n",
              "      <td>NaN</td>\n",
              "      <td>Luis Ernesto Franco, Camila Sodi, Sergio Goyri...</td>\n",
              "      <td>Mexico</td>\n",
              "      <td>September 22, 2021</td>\n",
              "      <td>2020</td>\n",
              "      <td>TV-MA</td>\n",
              "      <td>2 Seasons</td>\n",
              "      <td>Crime TV Shows, Spanish-Language TV Shows, TV ...</td>\n",
              "      <td>Strangers Diego and Isabel flee their home in ...</td>\n",
              "    </tr>\n",
              "    <tr>\n",
              "      <th>s22</th>\n",
              "      <td>TV Show</td>\n",
              "      <td>Resurrection: Ertugrul</td>\n",
              "      <td>NaN</td>\n",
              "      <td>Engin Altan Düzyatan, Serdar Gökhan, Hülya Dar...</td>\n",
              "      <td>Turkey</td>\n",
              "      <td>September 22, 2021</td>\n",
              "      <td>2018</td>\n",
              "      <td>TV-14</td>\n",
              "      <td>5 Seasons</td>\n",
              "      <td>International TV Shows, TV Action &amp; Adventure,...</td>\n",
              "      <td>When a good deed unwittingly endangers his cla...</td>\n",
              "    </tr>\n",
              "    <tr>\n",
              "      <th>s33</th>\n",
              "      <td>TV Show</td>\n",
              "      <td>Sex Education</td>\n",
              "      <td>NaN</td>\n",
              "      <td>Asa Butterfield, Gillian Anderson, Ncuti Gatwa...</td>\n",
              "      <td>United Kingdom</td>\n",
              "      <td>September 17, 2021</td>\n",
              "      <td>2020</td>\n",
              "      <td>TV-MA</td>\n",
              "      <td>3 Seasons</td>\n",
              "      <td>British TV Shows, International TV Shows, TV C...</td>\n",
              "      <td>Insecure Otis has all the answers when it come...</td>\n",
              "    </tr>\n",
              "    <tr>\n",
              "      <th>...</th>\n",
              "      <td>...</td>\n",
              "      <td>...</td>\n",
              "      <td>...</td>\n",
              "      <td>...</td>\n",
              "      <td>...</td>\n",
              "      <td>...</td>\n",
              "      <td>...</td>\n",
              "      <td>...</td>\n",
              "      <td>...</td>\n",
              "      <td>...</td>\n",
              "      <td>...</td>\n",
              "    </tr>\n",
              "    <tr>\n",
              "      <th>s8788</th>\n",
              "      <td>Movie</td>\n",
              "      <td>You Can’t Fight Christmas</td>\n",
              "      <td>Kenny Young</td>\n",
              "      <td>Brely Evans, Andra Fuller, Persia White, Porsc...</td>\n",
              "      <td>United States</td>\n",
              "      <td>December 19, 2017</td>\n",
              "      <td>2017</td>\n",
              "      <td>TV-PG</td>\n",
              "      <td>85 min</td>\n",
              "      <td>Comedies, Romantic Movies</td>\n",
              "      <td>After stepping in to revitalize his family's h...</td>\n",
              "    </tr>\n",
              "    <tr>\n",
              "      <th>s8795</th>\n",
              "      <td>Movie</td>\n",
              "      <td>اشتباك</td>\n",
              "      <td>Mohamed Diab</td>\n",
              "      <td>Nelly Karim, Hany Adel, Tarek Abdel Aziz, Ahme...</td>\n",
              "      <td>Egypt, France</td>\n",
              "      <td>October 11, 2018</td>\n",
              "      <td>2016</td>\n",
              "      <td>TV-14</td>\n",
              "      <td>98 min</td>\n",
              "      <td>Dramas, Independent Movies, International Movies</td>\n",
              "      <td>Amid the tumult following Egyptian President M...</td>\n",
              "    </tr>\n",
              "    <tr>\n",
              "      <th>s8797</th>\n",
              "      <td>TV Show</td>\n",
              "      <td>Yunus Emre</td>\n",
              "      <td>NaN</td>\n",
              "      <td>Gökhan Atalay, Payidar Tüfekçioglu, Baran Akbu...</td>\n",
              "      <td>Turkey</td>\n",
              "      <td>January 17, 2017</td>\n",
              "      <td>2016</td>\n",
              "      <td>TV-PG</td>\n",
              "      <td>2 Seasons</td>\n",
              "      <td>International TV Shows, TV Dramas</td>\n",
              "      <td>During the Mongol invasions, Yunus Emre leaves...</td>\n",
              "    </tr>\n",
              "    <tr>\n",
              "      <th>s8798</th>\n",
              "      <td>TV Show</td>\n",
              "      <td>Zak Storm</td>\n",
              "      <td>NaN</td>\n",
              "      <td>Michael Johnston, Jessica Gee-George, Christin...</td>\n",
              "      <td>United States, France, South Korea, Indonesia</td>\n",
              "      <td>September 13, 2018</td>\n",
              "      <td>2016</td>\n",
              "      <td>TV-Y7</td>\n",
              "      <td>3 Seasons</td>\n",
              "      <td>Kids' TV</td>\n",
              "      <td>Teen surfer Zak Storm is mysteriously transpor...</td>\n",
              "    </tr>\n",
              "    <tr>\n",
              "      <th>s8804</th>\n",
              "      <td>TV Show</td>\n",
              "      <td>Zombie Dumb</td>\n",
              "      <td>NaN</td>\n",
              "      <td>NaN</td>\n",
              "      <td>NaN</td>\n",
              "      <td>July 1, 2019</td>\n",
              "      <td>2018</td>\n",
              "      <td>TV-Y7</td>\n",
              "      <td>2 Seasons</td>\n",
              "      <td>Kids' TV, Korean TV Shows, TV Comedies</td>\n",
              "      <td>While living alone in a spooky town, a young g...</td>\n",
              "    </tr>\n",
              "  </tbody>\n",
              "</table>\n",
              "<p>5064 rows × 11 columns</p>\n",
              "</div>"
            ],
            "text/plain": [
              "            type                                              title  \\\n",
              "show_id                                                               \n",
              "s1         Movie                               Dick Johnson Is Dead   \n",
              "s17        Movie  Europe's Most Dangerous Man: Otto Skorzeny in ...   \n",
              "s18      TV Show                                    Falsa identidad   \n",
              "s22      TV Show                             Resurrection: Ertugrul   \n",
              "s33      TV Show                                      Sex Education   \n",
              "...          ...                                                ...   \n",
              "s8788      Movie                          You Can’t Fight Christmas   \n",
              "s8795      Movie                                             اشتباك   \n",
              "s8797    TV Show                                         Yunus Emre   \n",
              "s8798    TV Show                                          Zak Storm   \n",
              "s8804    TV Show                                        Zombie Dumb   \n",
              "\n",
              "                                              director  \\\n",
              "show_id                                                  \n",
              "s1                                     Kirsten Johnson   \n",
              "s17      Pedro de Echave García, Pablo Azorín Williams   \n",
              "s18                                                NaN   \n",
              "s22                                                NaN   \n",
              "s33                                                NaN   \n",
              "...                                                ...   \n",
              "s8788                                      Kenny Young   \n",
              "s8795                                     Mohamed Diab   \n",
              "s8797                                              NaN   \n",
              "s8798                                              NaN   \n",
              "s8804                                              NaN   \n",
              "\n",
              "                                                      cast  \\\n",
              "show_id                                                      \n",
              "s1                                                     NaN   \n",
              "s17                                                    NaN   \n",
              "s18      Luis Ernesto Franco, Camila Sodi, Sergio Goyri...   \n",
              "s22      Engin Altan Düzyatan, Serdar Gökhan, Hülya Dar...   \n",
              "s33      Asa Butterfield, Gillian Anderson, Ncuti Gatwa...   \n",
              "...                                                    ...   \n",
              "s8788    Brely Evans, Andra Fuller, Persia White, Porsc...   \n",
              "s8795    Nelly Karim, Hany Adel, Tarek Abdel Aziz, Ahme...   \n",
              "s8797    Gökhan Atalay, Payidar Tüfekçioglu, Baran Akbu...   \n",
              "s8798    Michael Johnston, Jessica Gee-George, Christin...   \n",
              "s8804                                                  NaN   \n",
              "\n",
              "                                               country          date_added  \\\n",
              "show_id                                                                      \n",
              "s1                                       United States  September 25, 2021   \n",
              "s17                                                NaN  September 22, 2021   \n",
              "s18                                             Mexico  September 22, 2021   \n",
              "s22                                             Turkey  September 22, 2021   \n",
              "s33                                     United Kingdom  September 17, 2021   \n",
              "...                                                ...                 ...   \n",
              "s8788                                    United States   December 19, 2017   \n",
              "s8795                                    Egypt, France    October 11, 2018   \n",
              "s8797                                           Turkey    January 17, 2017   \n",
              "s8798    United States, France, South Korea, Indonesia  September 13, 2018   \n",
              "s8804                                              NaN        July 1, 2019   \n",
              "\n",
              "         release_year rating   duration  \\\n",
              "show_id                                   \n",
              "s1               2020  PG-13     90 min   \n",
              "s17              2020  TV-MA     67 min   \n",
              "s18              2020  TV-MA  2 Seasons   \n",
              "s22              2018  TV-14  5 Seasons   \n",
              "s33              2020  TV-MA  3 Seasons   \n",
              "...               ...    ...        ...   \n",
              "s8788            2017  TV-PG     85 min   \n",
              "s8795            2016  TV-14     98 min   \n",
              "s8797            2016  TV-PG  2 Seasons   \n",
              "s8798            2016  TV-Y7  3 Seasons   \n",
              "s8804            2018  TV-Y7  2 Seasons   \n",
              "\n",
              "                                                 listed_in  \\\n",
              "show_id                                                      \n",
              "s1                                           Documentaries   \n",
              "s17                    Documentaries, International Movies   \n",
              "s18      Crime TV Shows, Spanish-Language TV Shows, TV ...   \n",
              "s22      International TV Shows, TV Action & Adventure,...   \n",
              "s33      British TV Shows, International TV Shows, TV C...   \n",
              "...                                                    ...   \n",
              "s8788                            Comedies, Romantic Movies   \n",
              "s8795     Dramas, Independent Movies, International Movies   \n",
              "s8797                    International TV Shows, TV Dramas   \n",
              "s8798                                             Kids' TV   \n",
              "s8804               Kids' TV, Korean TV Shows, TV Comedies   \n",
              "\n",
              "                                               description  \n",
              "show_id                                                     \n",
              "s1       As her father nears the end of his life, filmm...  \n",
              "s17      Declassified documents reveal the post-WWII li...  \n",
              "s18      Strangers Diego and Isabel flee their home in ...  \n",
              "s22      When a good deed unwittingly endangers his cla...  \n",
              "s33      Insecure Otis has all the answers when it come...  \n",
              "...                                                    ...  \n",
              "s8788    After stepping in to revitalize his family's h...  \n",
              "s8795    Amid the tumult following Egyptian President M...  \n",
              "s8797    During the Mongol invasions, Yunus Emre leaves...  \n",
              "s8798    Teen surfer Zak Storm is mysteriously transpor...  \n",
              "s8804    While living alone in a spooky town, a young g...  \n",
              "\n",
              "[5064 rows x 11 columns]"
            ]
          },
          "execution_count": 20,
          "metadata": {},
          "output_type": "execute_result"
        }
      ],
      "source": [
        "# Your code starts from here\n",
        "# ...\n",
        "import numpy as np\n",
        "net = netflix['release_year']\n",
        "between = np.logical_and(net >= 2016, net <= 2020)\n",
        "outnetflix = netflix[between]\n",
        "outnetflix\n"
      ]
    }
  ],
  "metadata": {
    "colab": {
      "provenance": []
    },
    "kernelspec": {
      "display_name": "Python 3",
      "name": "python3"
    },
    "language_info": {
      "codemirror_mode": {
        "name": "ipython",
        "version": 3
      },
      "file_extension": ".py",
      "mimetype": "text/x-python",
      "name": "python",
      "nbconvert_exporter": "python",
      "pygments_lexer": "ipython3",
      "version": "3.11.0"
    }
  },
  "nbformat": 4,
  "nbformat_minor": 0
}
