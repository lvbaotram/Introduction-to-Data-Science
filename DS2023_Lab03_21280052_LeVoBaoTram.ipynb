{
 "cells": [
  {
   "attachments": {},
   "cell_type": "markdown",
   "metadata": {},
   "source": [
    "\"\"\"\n",
    "Introduction to Data Science \n",
    "\n",
    "Programming Exercise: 03\n",
    "\n",
    "Name: Le Vo Bao Tram\n",
    "\n",
    "Student ID: 21280052\n",
    "\"\"\""
   ]
  },
  {
   "cell_type": "code",
   "execution_count": 747,
   "metadata": {},
   "outputs": [],
   "source": [
    "#Importing the libraries\n",
    "import pandas as pd\n",
    "import numpy as np\n",
    "from sklearn.model_selection import train_test_split\n",
    "from sklearn.linear_model import LinearRegression\n",
    "from sklearn.metrics import mean_squared_error\n",
    "from sklearn.metrics import r2_score\n",
    "from sklearn.metrics import mean_absolute_error\n",
    "import matplotlib.pyplot as plt\n",
    "from sklearn.impute import SimpleImputer\n",
    "from sklearn.linear_model import Lasso\n",
    "from sklearn.model_selection import GridSearchCV\n",
    "import random\n",
    "import seaborn as sns\n",
    "from numpy import math\n",
    "from numpy import arange\n",
    "from sklearn.model_selection import RepeatedKFold"
   ]
  },
  {
   "cell_type": "code",
   "execution_count": 748,
   "metadata": {},
   "outputs": [
    {
     "data": {
      "text/html": [
       "<div>\n",
       "<style scoped>\n",
       "    .dataframe tbody tr th:only-of-type {\n",
       "        vertical-align: middle;\n",
       "    }\n",
       "\n",
       "    .dataframe tbody tr th {\n",
       "        vertical-align: top;\n",
       "    }\n",
       "\n",
       "    .dataframe thead th {\n",
       "        text-align: right;\n",
       "    }\n",
       "</style>\n",
       "<table border=\"1\" class=\"dataframe\">\n",
       "  <thead>\n",
       "    <tr style=\"text-align: right;\">\n",
       "      <th></th>\n",
       "      <th>Temperatura Media (C)</th>\n",
       "      <th>Temperatura Minima (C)</th>\n",
       "      <th>Temperatura Maxima (C)</th>\n",
       "      <th>Precipitacao (mm)</th>\n",
       "      <th>Final de Semana</th>\n",
       "      <th>Consumo de cerveja (litros)</th>\n",
       "    </tr>\n",
       "  </thead>\n",
       "  <tbody>\n",
       "    <tr>\n",
       "      <th>0</th>\n",
       "      <td>27.30</td>\n",
       "      <td>23.9</td>\n",
       "      <td>32.5</td>\n",
       "      <td>0.0</td>\n",
       "      <td>0</td>\n",
       "      <td>25.461</td>\n",
       "    </tr>\n",
       "    <tr>\n",
       "      <th>1</th>\n",
       "      <td>27.02</td>\n",
       "      <td>24.5</td>\n",
       "      <td>33.5</td>\n",
       "      <td>0.0</td>\n",
       "      <td>0</td>\n",
       "      <td>28.972</td>\n",
       "    </tr>\n",
       "    <tr>\n",
       "      <th>2</th>\n",
       "      <td>24.82</td>\n",
       "      <td>22.4</td>\n",
       "      <td>29.9</td>\n",
       "      <td>0.0</td>\n",
       "      <td>1</td>\n",
       "      <td>30.814</td>\n",
       "    </tr>\n",
       "    <tr>\n",
       "      <th>3</th>\n",
       "      <td>23.98</td>\n",
       "      <td>21.5</td>\n",
       "      <td>28.6</td>\n",
       "      <td>1.2</td>\n",
       "      <td>1</td>\n",
       "      <td>29.799</td>\n",
       "    </tr>\n",
       "    <tr>\n",
       "      <th>4</th>\n",
       "      <td>23.82</td>\n",
       "      <td>21.0</td>\n",
       "      <td>28.3</td>\n",
       "      <td>0.0</td>\n",
       "      <td>0</td>\n",
       "      <td>28.900</td>\n",
       "    </tr>\n",
       "  </tbody>\n",
       "</table>\n",
       "</div>"
      ],
      "text/plain": [
       "   Temperatura Media (C)  Temperatura Minima (C)  Temperatura Maxima (C)  \\\n",
       "0                  27.30                    23.9                    32.5   \n",
       "1                  27.02                    24.5                    33.5   \n",
       "2                  24.82                    22.4                    29.9   \n",
       "3                  23.98                    21.5                    28.6   \n",
       "4                  23.82                    21.0                    28.3   \n",
       "\n",
       "   Precipitacao (mm)  Final de Semana  Consumo de cerveja (litros)  \n",
       "0                0.0                0                       25.461  \n",
       "1                0.0                0                       28.972  \n",
       "2                0.0                1                       30.814  \n",
       "3                1.2                1                       29.799  \n",
       "4                0.0                0                       28.900  "
      ]
     },
     "execution_count": 748,
     "metadata": {},
     "output_type": "execute_result"
    }
   ],
   "source": [
    "#Importing the dataset\n",
    "df=pd.read_csv('https://raw.githubusercontent.com/hduc-le/Introduction-to-data-science/main/datasets/Consumo_cerveja.csv')\n",
    "df.head()\n"
   ]
  },
  {
   "attachments": {},
   "cell_type": "markdown",
   "metadata": {},
   "source": [
    "Tempetura Media: median of temperature in Celsius degree\n",
    "\n",
    "Tempetura Minama: min of temperature in Celsius degree\n",
    "\n",
    "Tempetura Maxima: max of temperature in Celsius degree\n",
    "\n",
    "Precipitacao: precipitation (lượng mưa) in mm\n",
    "\n",
    "Final de Semana: whether the weekend or not (0 or 1)\n",
    "\n",
    "Consumo de cerveja: the amount of beer consumed in a day (liters)\n",
    "\n"
   ]
  },
  {
   "cell_type": "code",
   "execution_count": 749,
   "metadata": {},
   "outputs": [
    {
     "data": {
      "text/html": [
       "<div>\n",
       "<style scoped>\n",
       "    .dataframe tbody tr th:only-of-type {\n",
       "        vertical-align: middle;\n",
       "    }\n",
       "\n",
       "    .dataframe tbody tr th {\n",
       "        vertical-align: top;\n",
       "    }\n",
       "\n",
       "    .dataframe thead th {\n",
       "        text-align: right;\n",
       "    }\n",
       "</style>\n",
       "<table border=\"1\" class=\"dataframe\">\n",
       "  <thead>\n",
       "    <tr style=\"text-align: right;\">\n",
       "      <th></th>\n",
       "      <th>Temperatura Media (C)</th>\n",
       "      <th>Temperatura Minima (C)</th>\n",
       "      <th>Temperatura Maxima (C)</th>\n",
       "      <th>Precipitacao (mm)</th>\n",
       "      <th>Final de Semana</th>\n",
       "      <th>Consumo de cerveja (litros)</th>\n",
       "    </tr>\n",
       "  </thead>\n",
       "  <tbody>\n",
       "    <tr>\n",
       "      <th>count</th>\n",
       "      <td>365.000000</td>\n",
       "      <td>365.000000</td>\n",
       "      <td>365.000000</td>\n",
       "      <td>365.000000</td>\n",
       "      <td>365.000000</td>\n",
       "      <td>365.000000</td>\n",
       "    </tr>\n",
       "    <tr>\n",
       "      <th>mean</th>\n",
       "      <td>21.226356</td>\n",
       "      <td>17.461370</td>\n",
       "      <td>26.611507</td>\n",
       "      <td>5.196712</td>\n",
       "      <td>0.284932</td>\n",
       "      <td>25.401367</td>\n",
       "    </tr>\n",
       "    <tr>\n",
       "      <th>std</th>\n",
       "      <td>3.180108</td>\n",
       "      <td>2.826185</td>\n",
       "      <td>4.317366</td>\n",
       "      <td>12.417844</td>\n",
       "      <td>0.452001</td>\n",
       "      <td>4.399143</td>\n",
       "    </tr>\n",
       "    <tr>\n",
       "      <th>min</th>\n",
       "      <td>12.900000</td>\n",
       "      <td>10.600000</td>\n",
       "      <td>14.500000</td>\n",
       "      <td>0.000000</td>\n",
       "      <td>0.000000</td>\n",
       "      <td>14.343000</td>\n",
       "    </tr>\n",
       "    <tr>\n",
       "      <th>25%</th>\n",
       "      <td>19.020000</td>\n",
       "      <td>15.300000</td>\n",
       "      <td>23.800000</td>\n",
       "      <td>0.000000</td>\n",
       "      <td>0.000000</td>\n",
       "      <td>22.008000</td>\n",
       "    </tr>\n",
       "    <tr>\n",
       "      <th>50%</th>\n",
       "      <td>21.380000</td>\n",
       "      <td>17.900000</td>\n",
       "      <td>26.900000</td>\n",
       "      <td>0.000000</td>\n",
       "      <td>0.000000</td>\n",
       "      <td>24.867000</td>\n",
       "    </tr>\n",
       "    <tr>\n",
       "      <th>75%</th>\n",
       "      <td>23.280000</td>\n",
       "      <td>19.600000</td>\n",
       "      <td>29.400000</td>\n",
       "      <td>3.200000</td>\n",
       "      <td>1.000000</td>\n",
       "      <td>28.631000</td>\n",
       "    </tr>\n",
       "    <tr>\n",
       "      <th>max</th>\n",
       "      <td>28.860000</td>\n",
       "      <td>24.500000</td>\n",
       "      <td>36.500000</td>\n",
       "      <td>94.800000</td>\n",
       "      <td>1.000000</td>\n",
       "      <td>37.937000</td>\n",
       "    </tr>\n",
       "  </tbody>\n",
       "</table>\n",
       "</div>"
      ],
      "text/plain": [
       "       Temperatura Media (C)  Temperatura Minima (C)  Temperatura Maxima (C)  \\\n",
       "count             365.000000              365.000000              365.000000   \n",
       "mean               21.226356               17.461370               26.611507   \n",
       "std                 3.180108                2.826185                4.317366   \n",
       "min                12.900000               10.600000               14.500000   \n",
       "25%                19.020000               15.300000               23.800000   \n",
       "50%                21.380000               17.900000               26.900000   \n",
       "75%                23.280000               19.600000               29.400000   \n",
       "max                28.860000               24.500000               36.500000   \n",
       "\n",
       "       Precipitacao (mm)  Final de Semana  Consumo de cerveja (litros)  \n",
       "count         365.000000       365.000000                   365.000000  \n",
       "mean            5.196712         0.284932                    25.401367  \n",
       "std            12.417844         0.452001                     4.399143  \n",
       "min             0.000000         0.000000                    14.343000  \n",
       "25%             0.000000         0.000000                    22.008000  \n",
       "50%             0.000000         0.000000                    24.867000  \n",
       "75%             3.200000         1.000000                    28.631000  \n",
       "max            94.800000         1.000000                    37.937000  "
      ]
     },
     "execution_count": 749,
     "metadata": {},
     "output_type": "execute_result"
    }
   ],
   "source": [
    "df.describe()"
   ]
  },
  {
   "cell_type": "code",
   "execution_count": 750,
   "metadata": {},
   "outputs": [
    {
     "data": {
      "text/plain": [
       "Temperatura Media (C)          0\n",
       "Temperatura Minima (C)         0\n",
       "Temperatura Maxima (C)         0\n",
       "Precipitacao (mm)              0\n",
       "Final de Semana                0\n",
       "Consumo de cerveja (litros)    0\n",
       "dtype: int64"
      ]
     },
     "execution_count": 750,
     "metadata": {},
     "output_type": "execute_result"
    }
   ],
   "source": [
    "df.isnull().sum()"
   ]
  },
  {
   "cell_type": "code",
   "execution_count": 751,
   "metadata": {},
   "outputs": [
    {
     "data": {
      "text/html": [
       "<div>\n",
       "<style scoped>\n",
       "    .dataframe tbody tr th:only-of-type {\n",
       "        vertical-align: middle;\n",
       "    }\n",
       "\n",
       "    .dataframe tbody tr th {\n",
       "        vertical-align: top;\n",
       "    }\n",
       "\n",
       "    .dataframe thead th {\n",
       "        text-align: right;\n",
       "    }\n",
       "</style>\n",
       "<table border=\"1\" class=\"dataframe\">\n",
       "  <thead>\n",
       "    <tr style=\"text-align: right;\">\n",
       "      <th></th>\n",
       "      <th>Temperatura Media (C)</th>\n",
       "      <th>Temperatura Minima (C)</th>\n",
       "      <th>Temperatura Maxima (C)</th>\n",
       "      <th>Precipitacao (mm)</th>\n",
       "      <th>Final de Semana</th>\n",
       "      <th>Consumo de cerveja (litros)</th>\n",
       "    </tr>\n",
       "  </thead>\n",
       "  <tbody>\n",
       "    <tr>\n",
       "      <th>Temperatura Media (C)</th>\n",
       "      <td>1.000000</td>\n",
       "      <td>0.862752</td>\n",
       "      <td>0.922513</td>\n",
       "      <td>0.024416</td>\n",
       "      <td>-0.050803</td>\n",
       "      <td>0.574615</td>\n",
       "    </tr>\n",
       "    <tr>\n",
       "      <th>Temperatura Minima (C)</th>\n",
       "      <td>0.862752</td>\n",
       "      <td>1.000000</td>\n",
       "      <td>0.672929</td>\n",
       "      <td>0.098625</td>\n",
       "      <td>-0.059534</td>\n",
       "      <td>0.392509</td>\n",
       "    </tr>\n",
       "    <tr>\n",
       "      <th>Temperatura Maxima (C)</th>\n",
       "      <td>0.922513</td>\n",
       "      <td>0.672929</td>\n",
       "      <td>1.000000</td>\n",
       "      <td>-0.049305</td>\n",
       "      <td>-0.040258</td>\n",
       "      <td>0.642672</td>\n",
       "    </tr>\n",
       "    <tr>\n",
       "      <th>Precipitacao (mm)</th>\n",
       "      <td>0.024416</td>\n",
       "      <td>0.098625</td>\n",
       "      <td>-0.049305</td>\n",
       "      <td>1.000000</td>\n",
       "      <td>0.001587</td>\n",
       "      <td>-0.193784</td>\n",
       "    </tr>\n",
       "    <tr>\n",
       "      <th>Final de Semana</th>\n",
       "      <td>-0.050803</td>\n",
       "      <td>-0.059534</td>\n",
       "      <td>-0.040258</td>\n",
       "      <td>0.001587</td>\n",
       "      <td>1.000000</td>\n",
       "      <td>0.505981</td>\n",
       "    </tr>\n",
       "    <tr>\n",
       "      <th>Consumo de cerveja (litros)</th>\n",
       "      <td>0.574615</td>\n",
       "      <td>0.392509</td>\n",
       "      <td>0.642672</td>\n",
       "      <td>-0.193784</td>\n",
       "      <td>0.505981</td>\n",
       "      <td>1.000000</td>\n",
       "    </tr>\n",
       "  </tbody>\n",
       "</table>\n",
       "</div>"
      ],
      "text/plain": [
       "                             Temperatura Media (C)  Temperatura Minima (C)  \\\n",
       "Temperatura Media (C)                     1.000000                0.862752   \n",
       "Temperatura Minima (C)                    0.862752                1.000000   \n",
       "Temperatura Maxima (C)                    0.922513                0.672929   \n",
       "Precipitacao (mm)                         0.024416                0.098625   \n",
       "Final de Semana                          -0.050803               -0.059534   \n",
       "Consumo de cerveja (litros)               0.574615                0.392509   \n",
       "\n",
       "                             Temperatura Maxima (C)  Precipitacao (mm)  \\\n",
       "Temperatura Media (C)                      0.922513           0.024416   \n",
       "Temperatura Minima (C)                     0.672929           0.098625   \n",
       "Temperatura Maxima (C)                     1.000000          -0.049305   \n",
       "Precipitacao (mm)                         -0.049305           1.000000   \n",
       "Final de Semana                           -0.040258           0.001587   \n",
       "Consumo de cerveja (litros)                0.642672          -0.193784   \n",
       "\n",
       "                             Final de Semana  Consumo de cerveja (litros)  \n",
       "Temperatura Media (C)              -0.050803                     0.574615  \n",
       "Temperatura Minima (C)             -0.059534                     0.392509  \n",
       "Temperatura Maxima (C)             -0.040258                     0.642672  \n",
       "Precipitacao (mm)                   0.001587                    -0.193784  \n",
       "Final de Semana                     1.000000                     0.505981  \n",
       "Consumo de cerveja (litros)         0.505981                     1.000000  "
      ]
     },
     "execution_count": 751,
     "metadata": {},
     "output_type": "execute_result"
    }
   ],
   "source": [
    "df.corr()"
   ]
  },
  {
   "cell_type": "code",
   "execution_count": 752,
   "metadata": {},
   "outputs": [
    {
     "data": {
      "image/png": "[encoded data removed]",
      "text/plain": [
       "<Figure size 1000x500 with 2 Axes>"
      ]
     },
     "metadata": {},
     "output_type": "display_data"
    }
   ],
   "source": [
    "plt.figure(figsize=(10,5))\n",
    "sns.heatmap(df.corr(), annot = True, cmap =plt.cm.Reds)\n",
    "plt.show()\n"
   ]
  },
  {
   "cell_type": "code",
   "execution_count": 753,
   "metadata": {},
   "outputs": [],
   "source": [
    "X = df[['Temperatura Media (C)', 'Temperatura Maxima (C)', 'Final de Semana']].values\n",
    "y = df['Consumo de cerveja (litros)'].values"
   ]
  },
  {
   "cell_type": "code",
   "execution_count": 754,
   "metadata": {},
   "outputs": [],
   "source": [
    "#Splitting the dataset into the Training set and Test set\n",
    "X_train, X_test, y_train, y_test = train_test_split(X, y , test_size = 0.3)"
   ]
  },
  {
   "cell_type": "code",
   "execution_count": 756,
   "metadata": {},
   "outputs": [],
   "source": [
    "from sklearn.preprocessing import StandardScaler\n",
    "scaler = StandardScaler()\n",
    "X_train = scaler.fit_transform(X_train)\n",
    "X_test = scaler.transform(X_test)"
   ]
  },
  {
   "cell_type": "code",
   "execution_count": 757,
   "metadata": {},
   "outputs": [
    {
     "data": {
      "text/plain": [
       "array([[ 0.86135544,  1.1098348 , -0.59697821],\n",
       "       [-0.06986221, -0.63372863, -0.59697821],\n",
       "       [-1.23236267, -1.34491897, -0.59697821],\n",
       "       [ 0.37444425,  0.12334497, -0.59697821],\n",
       "       [ 0.44139454,  0.03157847, -0.59697821],\n",
       "       [-0.38635448, -0.81726162, -0.59697821],\n",
       "       [-1.50016382, -1.50551034, -0.59697821],\n",
       "       [ 0.167507  ,  0.37570283, -0.59697821],\n",
       "       [-1.56102772, -1.9414012 ,  1.67510303],\n",
       "       [ 0.14924783,  0.28393634, -0.59697821],\n",
       "       [ 0.24054367,  0.19216984, -0.59697821],\n",
       "       [ 0.526604  ,  0.21511146,  1.67510303],\n",
       "       [ 0.41704898,  0.5362942 , -0.59697821],\n",
       "       [ 0.64833179,  1.08689318, -0.59697821],\n",
       "       [-0.24028112, -0.56490376,  1.67510303],\n",
       "       [-0.82457455, -0.24372102, -0.59697821],\n",
       "       [ 0.80657793,  0.94924343, -0.59697821],\n",
       "       [-1.18975794, -1.06961949, -0.59697821],\n",
       "       [ 0.65441818,  0.67394395,  1.67510303],\n",
       "       [ 0.91613294,  0.90336019, -0.59697821],\n",
       "       [ 0.10055671,  0.30687796, -0.59697821],\n",
       "       [ 0.90396016,  0.99512668, -0.59697821],\n",
       "       [-1.11672126, -0.90902812, -0.59697821],\n",
       "       [ 1.06829269,  1.06395155,  1.67510303],\n",
       "       [ 2.38295289,  2.16514951,  1.67510303],\n",
       "       [-0.18550361,  0.39864446, -0.59697821],\n",
       "       [ 0.78223237,  0.5362942 , -0.59697821],\n",
       "       [-2.13923475, -2.46905855,  1.67510303],\n",
       "       [-0.2524539 , -0.58784538,  1.67510303],\n",
       "       [-0.03334387, -0.0372464 , -0.59697821],\n",
       "       [ 1.22653883,  0.92630181,  1.67510303],\n",
       "       [ 1.02568796,  0.83453531,  1.67510303],\n",
       "       [ 1.59780861,  1.40807592, -0.59697821],\n",
       "       [-1.3297449 , -1.62021846, -0.59697821],\n",
       "       [ 0.03969281,  0.32981958,  1.67510303],\n",
       "       [ 1.33000745,  1.15571805, -0.59697821],\n",
       "       [-0.32549058, -0.93196974, -0.59697821],\n",
       "       [ 0.51443122,  0.12334497, -0.59697821],\n",
       "       [ 1.603895  ,  2.05044139, -0.59697821],\n",
       "       [ 0.55094955,  0.60511907,  1.67510303],\n",
       "       [ 0.14924783,  0.23805309, -0.59697821],\n",
       "       [-0.64198285, -0.54196213, -0.59697821],\n",
       "       [ 1.06829269,  1.33925104, -0.59697821],\n",
       "       [-1.42712714, -1.71198496, -0.59697821],\n",
       "       [ 0.16142061,  0.35276121, -0.59697821],\n",
       "       [ 0.33183952, -0.610787  , -0.59697821],\n",
       "       [ 0.00926086,  0.30687796, -0.59697821],\n",
       "       [ 0.89787378,  0.51335258,  1.67510303],\n",
       "       [-1.22018989, -1.32197735, -0.59697821],\n",
       "       [-0.08812138,  0.4445277 , -0.59697821],\n",
       "       [ 0.41096259, -0.08312965,  1.67510303],\n",
       "       [-1.34800407, -0.49607888, -0.59697821],\n",
       "       [-1.85317443, -1.23021085,  1.67510303],\n",
       "       [-0.40461365, -0.81726162,  1.67510303],\n",
       "       [ 0.90396016,  0.65100232, -0.59697821],\n",
       "       [ 1.89604171,  1.52278404, -0.59697821],\n",
       "       [ 0.526604  ,  0.74276882, -0.59697821],\n",
       "       [-0.6724148 , -0.79432   , -0.59697821],\n",
       "       [-0.73936509, -1.16138598,  1.67510303],\n",
       "       [-1.3906088 , -0.88608649, -0.59697821],\n",
       "       [ 0.00317447,  0.23805309, -0.59697821],\n",
       "       [-0.1368125 , -0.33548751,  1.67510303],\n",
       "       [ 1.82300503,  1.63749216, -0.59697821],\n",
       "       [ 0.56312233,  0.35276121,  1.67510303],\n",
       "       [-0.78196982,  0.07746172,  1.67510303],\n",
       "       [ 1.64041333,  1.63749216, -0.59697821],\n",
       "       [ 1.1230702 ,  1.47690079, -0.59697821],\n",
       "       [-0.70284675, -0.45019563, -0.59697821],\n",
       "       [-0.30114502, -0.56490376, -0.59697821],\n",
       "       [-1.50016382, -1.41374385, -0.59697821],\n",
       "       [-0.38026809,  0.00863685,  1.67510303],\n",
       "       [-1.31148573, -1.13844436, -0.59697821],\n",
       "       [-1.46973187, -1.55139359, -0.59697821],\n",
       "       [ 0.25271645, -0.17489615, -0.59697821],\n",
       "       [-0.35592253,  0.19216984, -0.59697821],\n",
       "       [ 0.83700988,  0.94924343, -0.59697821],\n",
       "       [-0.05160304,  0.28393634, -0.59697821],\n",
       "       [-0.54460061, -0.22077939, -0.59697821],\n",
       "       [-1.38452241, -1.48256872,  1.67510303],\n",
       "       [ 0.49008566,  0.07746172, -0.59697821],\n",
       "       [-1.46364548, -1.75786821, -0.59697821],\n",
       "       [ 0.56920872,  0.28393634,  1.67510303],\n",
       "       [-0.21593556,  0.23805309,  1.67510303],\n",
       "       [-0.56285978, -0.7025535 ,  1.67510303],\n",
       "       [-0.53851422,  0.00863685,  1.67510303],\n",
       "       [ 1.14741576,  0.97218506,  1.67510303],\n",
       "       [ 0.45356732,  0.26099471, -0.59697821],\n",
       "       [ 1.0013424 ,  1.2016013 ,  1.67510303],\n",
       "       [ 0.22837089,  0.16922822, -0.59697821],\n",
       "       [ 0.00317447, -0.01430478,  1.67510303],\n",
       "       [ 0.07012476, -0.35842914, -0.59697821],\n",
       "       [-0.16115806,  0.21511146, -0.59697821],\n",
       "       [ 0.44139454,  0.83453531,  1.67510303],\n",
       "       [ 1.66475889,  1.45395916, -0.59697821],\n",
       "       [ 1.50042637,  2.07338301, -0.59697821],\n",
       "       [ 0.68485013,  0.71982719,  1.67510303],\n",
       "       [ 0.00317447, -0.06018803, -0.59697821],\n",
       "       [ 1.57346305,  1.45395916, -0.59697821],\n",
       "       [-1.73144663, -1.2760941 ,  1.67510303],\n",
       "       [ 0.44748093, -0.10607127, -0.59697821],\n",
       "       [-1.88969277, -1.89551795, -0.59697821],\n",
       "       [ 0.05186559, -0.33548751, -0.59697821],\n",
       "       [-0.50808228, -0.28960427, -0.59697821],\n",
       "       [ 2.21253398,  2.05044139, -0.59697821],\n",
       "       [ 1.46999442,  1.47690079, -0.59697821],\n",
       "       [-0.02117109,  0.19216984, -0.59697821],\n",
       "       [ 0.36227147,  0.00863685, -0.59697821],\n",
       "       [ 1.74388196,  1.79808353,  1.67510303],\n",
       "       [ 0.45356732,  0.39864446, -0.59697821],\n",
       "       [-1.12280765, -1.00079461, -0.59697821],\n",
       "       [-1.16541238, -1.48256872, -0.59697821],\n",
       "       [-1.12889404, -0.40431239,  1.67510303],\n",
       "       [ 0.20402533,  0.55923582, -0.59697821],\n",
       "       [-1.97490222, -1.91845958, -0.59697821],\n",
       "       [ 0.23445728,  0.16922822, -0.59697821],\n",
       "       [ 0.27097562,  0.05452009,  1.67510303],\n",
       "       [ 0.526604  ,  0.37570283, -0.59697821],\n",
       "       [ 0.64833179,  0.71982719, -0.59697821],\n",
       "       [-1.01933902, -1.02373624, -0.59697821],\n",
       "       [ 0.5813815 ,  0.16922822, -0.59697821],\n",
       "       [ 1.13524298,  0.60511907, -0.59697821],\n",
       "       [-1.29931295, -1.64316009,  1.67510303],\n",
       "       [ 0.56312233,  0.39864446, -0.59697821],\n",
       "       [-0.18550361, -0.56490376, -0.59697821],\n",
       "       [-0.78196982, -0.1290129 , -0.59697821],\n",
       "       [ 0.18576616, -0.47313726,  1.67510303],\n",
       "       [-1.26279461, -1.04667786, -0.59697821],\n",
       "       [ 1.09263825,  1.2933678 , -0.59697821],\n",
       "       [-0.05160304,  0.00863685, -0.59697821],\n",
       "       [-0.89761122, -0.0372464 ,  1.67510303],\n",
       "       [ 0.06403837, -0.51902051, -0.59697821],\n",
       "       [-0.14289889,  0.19216984,  1.67510303],\n",
       "       [ 0.20402533,  0.37570283, -0.59697821],\n",
       "       [ 0.81266432,  0.78865207,  1.67510303],\n",
       "       [ 1.30566189,  1.04100993, -0.59697821],\n",
       "       [-0.05160304,  0.49041095, -0.59697821],\n",
       "       [ 1.03786074,  1.01806831,  1.67510303],\n",
       "       [ 0.11881588,  0.14628659, -0.59697821],\n",
       "       [ 0.4048762 ,  0.69688557,  1.67510303],\n",
       "       [-1.08628931, -1.50551034,  1.67510303],\n",
       "       [-1.6888419 , -1.04667786,  1.67510303],\n",
       "       [-0.02117109,  0.00863685, -0.59697821],\n",
       "       [ 0.83700988,  1.24748455, -0.59697821],\n",
       "       [-1.52450938, -0.67961188, -0.59697821],\n",
       "       [-0.28288585, -0.1290129 , -0.59697821],\n",
       "       [ 0.54486316,  0.00863685,  1.67510303],\n",
       "       [ 1.41521691,  0.81159369, -0.59697821],\n",
       "       [ 1.1230702 ,  1.17865967, -0.59697821],\n",
       "       [-0.23419473, -0.22077939, -0.59697821],\n",
       "       [-0.72110592, -0.84020324, -0.59697821],\n",
       "       [ 0.31358035,  0.23805309, -0.59697821],\n",
       "       [-1.22018989, -1.75786821, -0.59697821],\n",
       "       [ 0.68485013,  0.14628659, -0.59697821],\n",
       "       [ 2.02385589,  2.11926626, -0.59697821],\n",
       "       [-1.3906088 , -0.42725401, -0.59697821],\n",
       "       [ 0.27097562,  0.69688557, -0.59697821],\n",
       "       [-0.04551665, -0.15195452, -0.59697821],\n",
       "       [ 0.77614598,  1.06395155, -0.59697821],\n",
       "       [ 2.1394973 ,  1.8669084 , -0.59697821],\n",
       "       [ 1.12915659,  1.45395916, -0.59697821],\n",
       "       [ 0.61789984,  0.37570283,  1.67510303],\n",
       "       [ 0.63615901,  0.6280607 , -0.59697821],\n",
       "       [-1.11063487, -1.45962709, -0.59697821],\n",
       "       [-1.59754606, -1.32197735, -0.59697821],\n",
       "       [-1.31148573, -1.23021085, -0.59697821],\n",
       "       [-0.33766336, -0.15195452,  1.67510303],\n",
       "       [-0.84283372, -0.38137076, -0.59697821],\n",
       "       [ 0.526604  ,  0.71982719,  1.67510303],\n",
       "       [ 0.38053064,  0.23805309, -0.59697821],\n",
       "       [-0.00291192,  0.19216984, -0.59697821],\n",
       "       [-0.41678643, -0.06018803,  1.67510303],\n",
       "       [ 0.25271645,  0.5362942 ,  1.67510303],\n",
       "       [ 0.29532118,  0.46746933, -0.59697821],\n",
       "       [-0.98282068, -1.06961949, -0.59697821],\n",
       "       [ 0.07012476, -0.01430478,  1.67510303],\n",
       "       [ 0.37444425,  0.55923582,  1.67510303],\n",
       "       [ 0.69093652,  0.67394395, -0.59697821],\n",
       "       [-1.27496739, -1.11550273, -0.59697821],\n",
       "       [ 0.05795198,  0.65100232,  1.67510303],\n",
       "       [ 0.87961461,  0.60511907, -0.59697821],\n",
       "       [ 2.15775647,  2.16514951, -0.59697821],\n",
       "       [ 1.40913052,  1.47690079, -0.59697821],\n",
       "       [-1.28105378, -0.79432   ,  1.67510303],\n",
       "       [-0.25854029,  0.28393634, -0.59697821],\n",
       "       [ 1.17784771,  1.47690079, -0.59697821],\n",
       "       [ 0.59355428,  0.71982719, -0.59697821],\n",
       "       [ 2.18818842,  2.32574088, -0.59697821],\n",
       "       [ 0.27097562, -0.17489615, -0.59697821],\n",
       "       [-0.64198285, -0.17489615, -0.59697821],\n",
       "       [-1.16541238, -0.45019563, -0.59697821],\n",
       "       [ 2.00559672,  1.93573327,  1.67510303],\n",
       "       [ 0.11272949,  0.28393634, -0.59697821],\n",
       "       [-1.28714017, -1.41374385, -0.59697821],\n",
       "       [-0.22810834, -0.31254589,  1.67510303],\n",
       "       [-1.17149877, -0.93196974,  1.67510303],\n",
       "       [ 0.35618508, -0.45019563,  1.67510303],\n",
       "       [ 0.0457792 ,  0.85747694, -0.59697821],\n",
       "       [ 2.18210203,  1.75220028, -0.59697821],\n",
       "       [-1.93838389, -1.98728445, -0.59697821],\n",
       "       [-1.75579219, -1.25315248, -0.59697821],\n",
       "       [-1.24453545, -1.23021085,  1.67510303],\n",
       "       [-0.33157697, -0.45019563,  1.67510303],\n",
       "       [-0.81240177, -0.51902051, -0.59697821],\n",
       "       [-1.20193072, -1.64316009, -0.59697821],\n",
       "       [ 0.81875071,  1.24748455, -0.59697821],\n",
       "       [ 0.45356732,  0.60511907, -0.59697821],\n",
       "       [-1.98098861, -2.35435043, -0.59697821],\n",
       "       [ 0.6422454 ,  0.60511907, -0.59697821],\n",
       "       [-0.99499346, -1.3678606 , -0.59697821],\n",
       "       [ 1.50042637,  1.75220028, -0.59697821],\n",
       "       [-0.84283372, -0.90902812,  1.67510303],\n",
       "       [ 0.39878981,  0.05452009, -0.59697821],\n",
       "       [ 0.08229754,  0.03157847, -0.59697821],\n",
       "       [ 1.09872464,  1.15571805, -0.59697821],\n",
       "       [-0.0150847 , -0.01430478, -0.59697821],\n",
       "       [-0.27679946,  0.05452009, -0.59697821],\n",
       "       [-0.14289889, -0.35842914, -0.59697821],\n",
       "       [ 0.07012476,  0.07746172, -0.59697821],\n",
       "       [-0.71501953, -0.47313726, -0.59697821],\n",
       "       [ 0.1066431 , -0.90902812, -0.59697821],\n",
       "       [ 1.90821449,  1.40807592, -0.59697821],\n",
       "       [-0.75153787, -0.72549512, -0.59697821],\n",
       "       [ 1.05611991,  1.43101754, -0.59697821],\n",
       "       [-0.57503256, -0.47313726, -0.59697821],\n",
       "       [-0.21593556, -0.08312965, -0.59697821],\n",
       "       [-0.909784  , -0.06018803,  1.67510303],\n",
       "       [ 0.30749396, -0.35842914, -0.59697821],\n",
       "       [-0.98890707, -1.34491897, -0.59697821],\n",
       "       [-1.49407743, -1.80375146,  1.67510303],\n",
       "       [-1.51842299, -2.0331677 , -0.59697821],\n",
       "       [-1.23236267, -1.34491897, -0.59697821],\n",
       "       [-0.48373672, -0.45019563,  1.67510303],\n",
       "       [ 0.27706201,  0.23805309, -0.59697821],\n",
       "       [ 1.03177435,  1.2016013 , -0.59697821],\n",
       "       [-1.06194375, -1.3678606 , -0.59697821],\n",
       "       [ 0.44748093,  0.19216984,  1.67510303],\n",
       "       [-0.52634145, -0.31254589, -0.59697821],\n",
       "       [ 0.10055671, -0.86314487, -0.59697821],\n",
       "       [ 0.87961461,  0.49041095, -0.59697821],\n",
       "       [ 2.0177695 ,  1.45395916, -0.59697821],\n",
       "       [ 0.05795198, -0.63372863, -0.59697821],\n",
       "       [ 1.56129027,  0.92630181, -0.59697821],\n",
       "       [-2.08445724, -2.35435043,  1.67510303],\n",
       "       [-1.27496739, -0.97785299, -0.59697821],\n",
       "       [-1.06803014, -0.79432   ,  1.67510303],\n",
       "       [-0.34374975, -0.81726162, -0.59697821],\n",
       "       [ 0.07621115, -0.35842914, -0.59697821],\n",
       "       [ 0.10055671, -0.7025535 , -0.59697821],\n",
       "       [ 0.12490227,  0.99512668, -0.59697821],\n",
       "       [-0.75762426, -0.40431239, -0.59697821],\n",
       "       [ 0.526604  ,  0.6280607 , -0.59697821],\n",
       "       [-1.92012472, -2.05610932, -0.59697821],\n",
       "       [-1.44538631, -0.97785299, -0.59697821],\n",
       "       [ 0.18576616,  0.42158608, -0.59697821],\n",
       "       [ 0.03969281, -0.33548751, -0.59697821]])"
      ]
     },
     "execution_count": 757,
     "metadata": {},
     "output_type": "execute_result"
    }
   ],
   "source": [
    "X_train"
   ]
  },
  {
   "cell_type": "code",
   "execution_count": 758,
   "metadata": {},
   "outputs": [
    {
     "data": {
      "text/html": [
       "<style>#sk-container-id-31 {color: black;background-color: white;}#sk-container-id-31 pre{padding: 0;}#sk-container-id-31 div.sk-toggleable {background-color: white;}#sk-container-id-31 label.sk-toggleable__label {cursor: pointer;display: block;width: 100%;margin-bottom: 0;padding: 0.3em;box-sizing: border-box;text-align: center;}#sk-container-id-31 label.sk-toggleable__label-arrow:before {content: \"▸\";float: left;margin-right: 0.25em;color: #696969;}#sk-container-id-31 label.sk-toggleable__label-arrow:hover:before {color: black;}#sk-container-id-31 div.sk-estimator:hover label.sk-toggleable__label-arrow:before {color: black;}#sk-container-id-31 div.sk-toggleable__content {max-height: 0;max-width: 0;overflow: hidden;text-align: left;background-color: #f0f8ff;}#sk-container-id-31 div.sk-toggleable__content pre {margin: 0.2em;color: black;border-radius: 0.25em;background-color: #f0f8ff;}#sk-container-id-31 input.sk-toggleable__control:checked~div.sk-toggleable__content {max-height: 200px;max-width: 100%;overflow: auto;}#sk-container-id-31 input.sk-toggleable__control:checked~label.sk-toggleable__label-arrow:before {content: \"▾\";}#sk-container-id-31 div.sk-estimator input.sk-toggleable__control:checked~label.sk-toggleable__label {background-color: #d4ebff;}#sk-container-id-31 div.sk-label input.sk-toggleable__control:checked~label.sk-toggleable__label {background-color: #d4ebff;}#sk-container-id-31 input.sk-hidden--visually {border: 0;clip: rect(1px 1px 1px 1px);clip: rect(1px, 1px, 1px, 1px);height: 1px;margin: -1px;overflow: hidden;padding: 0;position: absolute;width: 1px;}#sk-container-id-31 div.sk-estimator {font-family: monospace;background-color: #f0f8ff;border: 1px dotted black;border-radius: 0.25em;box-sizing: border-box;margin-bottom: 0.5em;}#sk-container-id-31 div.sk-estimator:hover {background-color: #d4ebff;}#sk-container-id-31 div.sk-parallel-item::after {content: \"\";width: 100%;border-bottom: 1px solid gray;flex-grow: 1;}#sk-container-id-31 div.sk-label:hover label.sk-toggleable__label {background-color: #d4ebff;}#sk-container-id-31 div.sk-serial::before {content: \"\";position: absolute;border-left: 1px solid gray;box-sizing: border-box;top: 0;bottom: 0;left: 50%;z-index: 0;}#sk-container-id-31 div.sk-serial {display: flex;flex-direction: column;align-items: center;background-color: white;padding-right: 0.2em;padding-left: 0.2em;position: relative;}#sk-container-id-31 div.sk-item {position: relative;z-index: 1;}#sk-container-id-31 div.sk-parallel {display: flex;align-items: stretch;justify-content: center;background-color: white;position: relative;}#sk-container-id-31 div.sk-item::before, #sk-container-id-31 div.sk-parallel-item::before {content: \"\";position: absolute;border-left: 1px solid gray;box-sizing: border-box;top: 0;bottom: 0;left: 50%;z-index: -1;}#sk-container-id-31 div.sk-parallel-item {display: flex;flex-direction: column;z-index: 1;position: relative;background-color: white;}#sk-container-id-31 div.sk-parallel-item:first-child::after {align-self: flex-end;width: 50%;}#sk-container-id-31 div.sk-parallel-item:last-child::after {align-self: flex-start;width: 50%;}#sk-container-id-31 div.sk-parallel-item:only-child::after {width: 0;}#sk-container-id-31 div.sk-dashed-wrapped {border: 1px dashed gray;margin: 0 0.4em 0.5em 0.4em;box-sizing: border-box;padding-bottom: 0.4em;background-color: white;}#sk-container-id-31 div.sk-label label {font-family: monospace;font-weight: bold;display: inline-block;line-height: 1.2em;}#sk-container-id-31 div.sk-label-container {text-align: center;}#sk-container-id-31 div.sk-container {/* jupyter's `normalize.less` sets `[hidden] { display: none; }` but bootstrap.min.css set `[hidden] { display: none !important; }` so we also need the `!important` here to be able to override the default hidden behavior on the sphinx rendered scikit-learn.org. See: https://github.com/scikit-learn/scikit-learn/issues/21755 */display: inline-block !important;position: relative;}#sk-container-id-31 div.sk-text-repr-fallback {display: none;}</style><div id=\"sk-container-id-31\" class=\"sk-top-container\"><div class=\"sk-text-repr-fallback\"><pre>LinearRegression()</pre><b>In a Jupyter environment, please rerun this cell to show the HTML representation or trust the notebook. <br />On GitHub, the HTML representation is unable to render, please try loading this page with nbviewer.org.</b></div><div class=\"sk-container\" hidden><div class=\"sk-item\"><div class=\"sk-estimator sk-toggleable\"><input class=\"sk-toggleable__control sk-hidden--visually\" id=\"sk-estimator-id-31\" type=\"checkbox\" checked><label for=\"sk-estimator-id-31\" class=\"sk-toggleable__label sk-toggleable__label-arrow\">LinearRegression</label><div class=\"sk-toggleable__content\"><pre>LinearRegression()</pre></div></div></div></div></div>"
      ],
      "text/plain": [
       "LinearRegression()"
      ]
     },
     "execution_count": 758,
     "metadata": {},
     "output_type": "execute_result"
    }
   ],
   "source": [
    "#Fitting Multiple linear regression to the Training test\n",
    "regressor = LinearRegression()\n",
    "regressor.fit(X_test, y_test)"
   ]
  },
  {
   "cell_type": "code",
   "execution_count": 759,
   "metadata": {},
   "outputs": [
    {
     "data": {
      "text/plain": [
       "25.183457859488755"
      ]
     },
     "execution_count": 759,
     "metadata": {},
     "output_type": "execute_result"
    }
   ],
   "source": [
    "# The model intercept\n",
    "regressor.intercept_"
   ]
  },
  {
   "cell_type": "code",
   "execution_count": 760,
   "metadata": {},
   "outputs": [
    {
     "data": {
      "text/plain": [
       "array([-0.4055994 ,  2.95880059,  2.29582655])"
      ]
     },
     "execution_count": 760,
     "metadata": {},
     "output_type": "execute_result"
    }
   ],
   "source": [
    "regressor.coef_"
   ]
  },
  {
   "cell_type": "code",
   "execution_count": 761,
   "metadata": {},
   "outputs": [],
   "source": [
    "# Lasso Regression"
   ]
  },
  {
   "cell_type": "code",
   "execution_count": 762,
   "metadata": {},
   "outputs": [],
   "source": [
    "lasso = Lasso(alpha=0.1).fit(X_test, y_test)\n"
   ]
  },
  {
   "cell_type": "code",
   "execution_count": 763,
   "metadata": {},
   "outputs": [
    {
     "data": {
      "text/plain": [
       "25.201262777174534"
      ]
     },
     "execution_count": 763,
     "metadata": {},
     "output_type": "execute_result"
    }
   ],
   "source": [
    "# The model intercept\n",
    "lasso.intercept_"
   ]
  },
  {
   "cell_type": "code",
   "execution_count": 764,
   "metadata": {},
   "outputs": [
    {
     "data": {
      "text/plain": [
       "array([0.        , 2.51424066, 2.21162226])"
      ]
     },
     "execution_count": 764,
     "metadata": {},
     "output_type": "execute_result"
    }
   ],
   "source": [
    "#The model coefficients\n",
    "lasso.coef_"
   ]
  },
  {
   "cell_type": "code",
   "execution_count": 765,
   "metadata": {},
   "outputs": [],
   "source": [
    "#Fitting the ridge regression model\n",
    "#Import Ridge function\n",
    "from sklearn.linear_model import Ridge\n",
    "ridge = Ridge().fit(X_test, y_test)"
   ]
  },
  {
   "cell_type": "code",
   "execution_count": 766,
   "metadata": {},
   "outputs": [
    {
     "data": {
      "text/plain": [
       "25.18488657728427"
      ]
     },
     "execution_count": 766,
     "metadata": {},
     "output_type": "execute_result"
    }
   ],
   "source": [
    "# The model intercept\n",
    "ridge.intercept_"
   ]
  },
  {
   "cell_type": "code",
   "execution_count": 767,
   "metadata": {},
   "outputs": [
    {
     "data": {
      "text/plain": [
       "array([-0.24862584,  2.80163331,  2.27901496])"
      ]
     },
     "execution_count": 767,
     "metadata": {},
     "output_type": "execute_result"
    }
   ],
   "source": [
    "# The model coefficients\n",
    "ridge.coef_"
   ]
  },
  {
   "cell_type": "code",
   "execution_count": 768,
   "metadata": {},
   "outputs": [
    {
     "name": "stdout",
     "output_type": "stream",
     "text": [
      "Linear Regression\n",
      ">> Test MSE :  5.880865835317948 RMSE:  2.4250496562581865 R2-score:  0.6745084671101678 MAE:  1.9581590802850974\n",
      "Lasso Regresion\n",
      ">> Test MSE :  5.9249211948418665 RMSE:  2.4341161013480574 R2-score:  0.6720701107686007 MAE:  1.9759251157601756\n",
      "Ridge Regression\n",
      ">> Test MSE :  5.885571895740625 RMSE:  2.4260197640869756 R2-score:  0.6742479981819957 MAE:  1.9594903692113927\n"
     ]
    }
   ],
   "source": [
    "\n",
    "print(\"Linear Regression\")\n",
    "print(\">> Test MSE : \", mean_squared_error(regressor.predict(X_test), y_test),'RMSE: ',math.sqrt(mean_squared_error( regressor.predict(X_test), y_test)), 'R2-score: ',r2_score(y_test,  regressor.predict(X_test)), 'MAE: ', mean_absolute_error(y_test, regressor.predict(X_test) ))\n",
    "print(\"Lasso Regresion\")\n",
    "print(\">> Test MSE : \", mean_squared_error( lasso.predict(X_test), y_test),'RMSE: ',math.sqrt(mean_squared_error( lasso.predict(X_test), y_test)), 'R2-score: ',r2_score(y_test,  lasso.predict(X_test)), 'MAE: ', mean_absolute_error(y_test, lasso.predict(X_test) ))\n",
    "print('Ridge Regression')\n",
    "print(\">> Test MSE : \", mean_squared_error( ridge.predict(X_test), y_test),'RMSE: ',math.sqrt(mean_squared_error( ridge.predict(X_test), y_test)), 'R2-score: ',r2_score(y_test,  ridge.predict(X_test)), 'MAE: ', mean_absolute_error(y_test, ridge.predict(X_test) ))\n"
   ]
  },
  {
   "attachments": {},
   "cell_type": "markdown",
   "metadata": {},
   "source": [
    "Evaluate the models"
   ]
  },
  {
   "attachments": {},
   "cell_type": "markdown",
   "metadata": {},
   "source": [
    "In this exercise, the MSE, RMSE, MAR of Linear Regression is smaller Lasso and Ridge. The R2-score of Lasso is smaller the other.\n",
    "The metrics such as MSE, RMSE, MAE is smaller => The model is better.\n",
    "Therefore, I choose Linear Regression which is the best model.\n",
    "However, this is an experiment and we must consider every aspect before evaluating."
   ]
  }
 ],
 "metadata": {
  "kernelspec": {
   "display_name": "Python 3",
   "language": "python",
   "name": "python3"
  },
  "language_info": {
   "codemirror_mode": {
    "name": "ipython",
    "version": 3
   },
   "file_extension": ".py",
   "mimetype": "text/x-python",
   "name": "python",
   "nbconvert_exporter": "python",
   "pygments_lexer": "ipython3",
   "version": "3.11.0"
  },
  "orig_nbformat": 4
 },
 "nbformat": 4,
 "nbformat_minor": 2
}
